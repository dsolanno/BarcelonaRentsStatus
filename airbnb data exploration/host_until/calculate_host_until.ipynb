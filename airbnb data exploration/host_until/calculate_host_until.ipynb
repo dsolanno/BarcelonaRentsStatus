{
 "cells": [
  {
   "cell_type": "code",
   "execution_count": 1,
   "metadata": {},
   "outputs": [],
   "source": [
    "import pandas as pd\n",
    "import numpy as np\n",
    "import matplotlib.pyplot as plt\n",
    "import seaborn as sns\n",
    "import matplotlib\n",
    "matplotlib.rcParams[\"figure.figsize\"] = (15,10)\n",
    "%matplotlib inline\n",
    "\n",
    "from tqdm import tqdm_notebook #show iter progression"
   ]
  },
  {
   "cell_type": "markdown",
   "metadata": {},
   "source": [
    "Llegim els `.csv` reduïts de cada _scraping_. Es troben dins la següent estructura de directoris: \n",
    "```bash\n",
    ".\n",
    "├── 02102015\n",
    "│   ├── 02102015.csv\n",
    "│   └── listings.csv\n",
    "├── 03012016\n",
    "│   ├── 03012016.csv\n",
    "│   └── listings.csv\n",
    "├── 08042017\n",
    "│   ├── 08042017.csv\n",
    "│   └── listings.csv\n",
    "├── 08122016\n",
    "│   ├── 08122016.csv\n",
    "│   └── listings.csv\n",
    "├── 17072015\n",
    "│   ├── 17072015.csv\n",
    "│   └── listings.csv\n",
    "└── 30042015\n",
    "    ├── 30042015.csv\n",
    "    └── listings.csv\n",
    "```\n",
    "\n",
    "on \"`listing.csv`\" és l'arxiu original de descarregar d'inside airbnb i \"`[0-9].csv`\" és l'arxiu reduït amb una subselecció de columnes"
   ]
  },
  {
   "cell_type": "code",
   "execution_count": 2,
   "metadata": {
    "collapsed": true
   },
   "outputs": [],
   "source": [
    "df1 = pd.read_csv('listings/30042015/30042015.csv', sep = \";\")\n",
    "df2 = pd.read_csv('listings/17072015/17072015.csv', sep = \";\")\n",
    "df3 = pd.read_csv('listings/02102015/02102015.csv', sep = \";\")\n",
    "df4 = pd.read_csv('listings/03012016/03012016.csv', sep = \";\")\n",
    "df5 = pd.read_csv('listings/08122016/08122016.csv', sep = \";\")\n",
    "df6 = pd.read_csv('listings/08042017/08042017.csv', sep = \";\")"
   ]
  },
  {
   "cell_type": "code",
   "execution_count": 3,
   "metadata": {
    "collapsed": true
   },
   "outputs": [],
   "source": [
    "dfs_l = (df1, df2, df3, df4, df5, df6) \n",
    "\n",
    "#convertim a datime per cada df\n",
    "for df in dfs_l:\n",
    "    df.host_since = pd.to_datetime(df.host_since, format=\"%Y-%m-%d\")\n",
    "    df.last_scraped = pd.to_datetime(df.last_scraped, format=\"%Y-%m-%d\")    "
   ]
  },
  {
   "cell_type": "markdown",
   "metadata": {},
   "source": [
    "feim un DataFrame on cada columna conté els `host_id` de cada _scrap_ i de nom li posam la data de l'_scrap_"
   ]
  },
  {
   "cell_type": "code",
   "execution_count": 4,
   "metadata": {
    "collapsed": true
   },
   "outputs": [],
   "source": [
    "l_hosts = [df['host_id'].values for df in dfs_l]  \n",
    "df_hosts = pd.DataFrame(l_hosts)\n",
    "df_hosts = df_hosts.T"
   ]
  },
  {
   "cell_type": "code",
   "execution_count": 5,
   "metadata": {},
   "outputs": [
    {
     "name": "stdout",
     "output_type": "stream",
     "text": [
      "[12033, 14703, 14539, 14855, 17369, 17653]\n"
     ]
    },
    {
     "data": {
      "text/html": [
       "<div>\n",
       "<table border=\"1\" class=\"dataframe\">\n",
       "  <thead>\n",
       "    <tr style=\"text-align: right;\">\n",
       "      <th></th>\n",
       "      <th>2015-04-30</th>\n",
       "      <th>2015-07-17</th>\n",
       "      <th>2015-10-02</th>\n",
       "      <th>2016-01-03</th>\n",
       "      <th>2016-12-08</th>\n",
       "      <th>2017-04-08</th>\n",
       "    </tr>\n",
       "  </thead>\n",
       "  <tbody>\n",
       "    <tr>\n",
       "      <th>0</th>\n",
       "      <td>346.0</td>\n",
       "      <td>3073.0</td>\n",
       "      <td>3073.0</td>\n",
       "      <td>3073.0</td>\n",
       "      <td>10704.0</td>\n",
       "      <td>10704.0</td>\n",
       "    </tr>\n",
       "    <tr>\n",
       "      <th>1</th>\n",
       "      <td>10704.0</td>\n",
       "      <td>3073.0</td>\n",
       "      <td>3073.0</td>\n",
       "      <td>3073.0</td>\n",
       "      <td>10704.0</td>\n",
       "      <td>10704.0</td>\n",
       "    </tr>\n",
       "    <tr>\n",
       "      <th>2</th>\n",
       "      <td>10704.0</td>\n",
       "      <td>10587.0</td>\n",
       "      <td>3073.0</td>\n",
       "      <td>10704.0</td>\n",
       "      <td>10704.0</td>\n",
       "      <td>10704.0</td>\n",
       "    </tr>\n",
       "    <tr>\n",
       "      <th>3</th>\n",
       "      <td>10704.0</td>\n",
       "      <td>10704.0</td>\n",
       "      <td>10587.0</td>\n",
       "      <td>10704.0</td>\n",
       "      <td>10704.0</td>\n",
       "      <td>10704.0</td>\n",
       "    </tr>\n",
       "    <tr>\n",
       "      <th>4</th>\n",
       "      <td>10704.0</td>\n",
       "      <td>10704.0</td>\n",
       "      <td>10704.0</td>\n",
       "      <td>10704.0</td>\n",
       "      <td>10704.0</td>\n",
       "      <td>10704.0</td>\n",
       "    </tr>\n",
       "  </tbody>\n",
       "</table>\n",
       "</div>"
      ],
      "text/plain": [
       "   2015-04-30  2015-07-17  2015-10-02  2016-01-03  2016-12-08  2017-04-08\n",
       "0       346.0      3073.0      3073.0      3073.0     10704.0     10704.0\n",
       "1     10704.0      3073.0      3073.0      3073.0     10704.0     10704.0\n",
       "2     10704.0     10587.0      3073.0     10704.0     10704.0     10704.0\n",
       "3     10704.0     10704.0     10587.0     10704.0     10704.0     10704.0\n",
       "4     10704.0     10704.0     10704.0     10704.0     10704.0     10704.0"
      ]
     },
     "execution_count": 5,
     "metadata": {},
     "output_type": "execute_result"
    }
   ],
   "source": [
    "df_hosts.columns = ['2015-04-30','2015-07-17','2015-10-02','2016-01-03','2016-12-08','2017-04-08']\n",
    "df_hosts = df_hosts.apply(lambda x: x.sort_values().values)\n",
    "print ([len(x) for x in l_hosts])\n",
    "df_hosts.head()"
   ]
  },
  {
   "cell_type": "markdown",
   "metadata": {},
   "source": [
    "Feim un dataframe amb l'índex dels IDs únics de tots els dataframes i hi afegim els valors de les altres llistes a la posició corresponent, deixant espais buits on no s'ha trobat el `host_id`\n"
   ]
  },
  {
   "cell_type": "code",
   "execution_count": 6,
   "metadata": {},
   "outputs": [],
   "source": [
    "uniq_id=np.sort(np.unique(np.hstack(l_hosts)))\n",
    "\n",
    "id_df = pd.DataFrame(uniq_id)\n",
    "id_df.set_index(0, inplace=True)"
   ]
  },
  {
   "cell_type": "code",
   "execution_count": null,
   "metadata": {
    "collapsed": true
   },
   "outputs": [],
   "source": [
    "#molt millorable\n",
    "## Ignasi no miris :/\n",
    "\n",
    "for date in tqdm_notebook(df_hosts.columns): \n",
    "    id_df[date]=''\n",
    "    for i in tqdm_notebook(id_df.index):\n",
    "        if  np.any(df_hosts[date].isin([i])):\n",
    "            id_df[date].loc[i] = i\n",
    "        else:\n",
    "            id_df[date].loc[i] = np.nan"
   ]
  },
  {
   "cell_type": "code",
   "execution_count": null,
   "metadata": {},
   "outputs": [],
   "source": [
    "id_df.head()"
   ]
  },
  {
   "cell_type": "markdown",
   "metadata": {},
   "source": [
    "L'última entrada vàlida de cada fila ens dirà quin va ser el derrer cop que aquell host va ser vist en un _scrap_:"
   ]
  },
  {
   "cell_type": "code",
   "execution_count": null,
   "metadata": {},
   "outputs": [],
   "source": [
    "last_seen = id_df.apply(lambda x: x.last_valid_index(), axis=1) #magic function last_valid_index!\n",
    "last_seen = pd.DataFrame(last_seen, columns=['host_until'])\n",
    "last_seen.host_until = pd.to_datetime(last_seen.host_until, format=\"%Y-%m-%d\") \n",
    "last_seen_dict = pd.Series(last_seen, index = last_seen.index).to_dict()"
   ]
  },
  {
   "cell_type": "code",
   "execution_count": null,
   "metadata": {},
   "outputs": [],
   "source": [
    "#mapejam el valor de l'ultima entrada valida al host_id per obtenir \"host_until\"\n",
    "listing_tot = pd.concat(dfs_l)\n",
    "listing_tot['host_until'] = listing_tot.host_id.map(last_seen_dict)\n",
    "listing_tot.head()"
   ]
  },
  {
   "cell_type": "code",
   "execution_count": null,
   "metadata": {
    "collapsed": true
   },
   "outputs": [],
   "source": [
    "listing_tot.to_csv('listings_host_until.csv',sep=';', index=False)"
   ]
  },
  {
   "cell_type": "code",
   "execution_count": null,
   "metadata": {
    "collapsed": true
   },
   "outputs": [],
   "source": []
  }
 ],
 "metadata": {
  "kernelspec": {
   "display_name": "Python 2",
   "language": "python",
   "name": "python2"
  },
  "language_info": {
   "codemirror_mode": {
    "name": "ipython",
    "version": 2
   },
   "file_extension": ".py",
   "mimetype": "text/x-python",
   "name": "python",
   "nbconvert_exporter": "python",
   "pygments_lexer": "ipython2",
   "version": "2.7.13"
  },
  "widgets": {
   "state": {
    "3c334e94725e4a73bb139634a3dae15a": {
     "views": [
      {
       "cell_index": 13
      }
     ]
    },
    "55a767e172b04e6d825c24cbc8129f8e": {
     "views": [
      {
       "cell_index": 9
      }
     ]
    },
    "5f4ba32873034265bfe552a0932fd588": {
     "views": [
      {
       "cell_index": 9
      }
     ]
    },
    "7010fb4905bd4914ad867be8757b8b46": {
     "views": [
      {
       "cell_index": 9
      }
     ]
    },
    "8c619059c8c34cfa81cb7c2a0d442b87": {
     "views": [
      {
       "cell_index": 13
      }
     ]
    },
    "f90248982d634c2ea6180ce92621d911": {
     "views": [
      {
       "cell_index": 13
      }
     ]
    }
   },
   "version": "1.2.0"
  }
 },
 "nbformat": 4,
 "nbformat_minor": 2
}
